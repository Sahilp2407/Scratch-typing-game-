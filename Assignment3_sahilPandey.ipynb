{
 "cells": [
  {
   "cell_type": "code",
   "execution_count": 1,
   "metadata": {},
   "outputs": [
    {
     "name": "stdout",
     "output_type": "stream",
     "text": [
      "Name: Alex\n",
      "Age: 18\n",
      "Roll No: 101\n",
      "Stream: Computer Science\n"
     ]
    }
   ],
   "source": [
    "#1. To create two class Person and inherit its properties in Student class. \n",
    "class Person:\n",
    "    def __init__(self, name, age):\n",
    "        self.name = name\n",
    "        self.age = age\n",
    "\n",
    "class Student(Person):\n",
    "    def __init__(self, name, age, rollno, stream):\n",
    "        super().__init__(name, age)\n",
    "        self.rollno = rollno\n",
    "        self.stream = stream\n",
    "    \n",
    "    def display(self):\n",
    "        print(\"Name:\", self.name)\n",
    "        print(\"Age:\", self.age)\n",
    "        print(\"Roll No:\", self.rollno)\n",
    "        print(\"Stream:\", self.stream)\n",
    "\n",
    "student1 = Student(\"Alex\", 18, 101, \"Computer Science\")\n",
    "student1.display()"
   ]
  },
  {
   "cell_type": "code",
   "execution_count": 2,
   "metadata": {},
   "outputs": [
    {
     "name": "stdout",
     "output_type": "stream",
     "text": [
      "Area: 78.53981633974483\n",
      "Perimeter: 31.41592653589793\n"
     ]
    }
   ],
   "source": [
    "#2. Write a Python class named Circle. Declare an instance variable, radius \n",
    "#and two methods that will compute the area and the perimeter of a circle.\n",
    "import math\n",
    "class Circle:\n",
    "    def __init__(self, radius):\n",
    "        self.radius = radius\n",
    "    def area(self):\n",
    "        return math.pi * self.radius ** 2\n",
    "    def perimeter(self):\n",
    "        return 2 * math.pi * self.radius\n",
    "circle1 = Circle(5)\n",
    "print(\"Area:\", circle1.area())\n",
    "print(\"Perimeter:\", circle1.perimeter())"
   ]
  },
  {
   "cell_type": "code",
   "execution_count": 3,
   "metadata": {},
   "outputs": [
    {
     "name": "stdout",
     "output_type": "stream",
     "text": [
      "Addition: 15\n",
      "Subtraction: 5\n",
      "Multiplication: 50\n",
      "Division: 2.0\n"
     ]
    }
   ],
   "source": [
    "#3. Write a Python program to create a calculator class. Include methods for basic arithmetic operations.\n",
    "class Calculator:\n",
    "    def add(self, a, b):\n",
    "        return a + b\n",
    "    def subtract(self, a, b):\n",
    "        return a - b\n",
    "    def multiply(self, a, b):\n",
    "        return a * b\n",
    "    def divide(self, a, b):\n",
    "        if b == 0:\n",
    "            return \"Error: Division by zero\"\n",
    "        return a / b\n",
    "\n",
    "calc = Calculator()\n",
    "print(\"Addition:\", calc.add(10, 5))\n",
    "print(\"Subtraction:\", calc.subtract(10, 5))\n",
    "print(\"Multiplication:\", calc.multiply(10, 5))\n",
    "print(\"Division:\", calc.divide(10, 5))"
   ]
  },
  {
   "cell_type": "code",
   "execution_count": 4,
   "metadata": {},
   "outputs": [
    {
     "name": "stdout",
     "output_type": "stream",
     "text": [
      "Total price: 18.98\n"
     ]
    }
   ],
   "source": [
    "#4. Write a Python program to create a class representing a shopping cart.\n",
    "#Include methods for adding and removing items, and calculating the total price.\n",
    "class ShoppingCart:\n",
    "    def __init__(self):\n",
    "        self.items = {}  \n",
    "    def add_item(self, item_name, price):\n",
    "        self.items[item_name] = price \n",
    "    def remove_item(self, item_name):\n",
    "        if item_name in self.items:\n",
    "            del self.items[item_name] \n",
    "        else:\n",
    "            print(\"Item not found in cart\")\n",
    "    def calculate_total(self):\n",
    "        return sum(self.items.values())  \n",
    "\n",
    "cart = ShoppingCart()\n",
    "cart.add_item(\"Book\", 12.99)\n",
    "cart.add_item(\"Pen\", 1.49)\n",
    "cart.add_item(\"Notebook\", 5.99)\n",
    "cart.remove_item(\"Pen\")\n",
    "print(\"Total price:\", cart.calculate_total())"
   ]
  },
  {
   "cell_type": "code",
   "execution_count": 5,
   "metadata": {},
   "outputs": [
    {
     "name": "stdout",
     "output_type": "stream",
     "text": [
      "Employee ID: E7876\n",
      "Employee Name: ADAMS\n",
      "Employee Salary: 55000.0\n",
      "Employee Department: HR\n"
     ]
    }
   ],
   "source": [
    "#5. Write a Python class Employee with attributes like emp_id, emp_name, emp_salary, and emp_department and methods like calculate_emp_salary,\n",
    "#emp_assign_department, and print_employee_details.\n",
    "class Employee:\n",
    "    def __init__(self, emp_name, emp_id, emp_salary, emp_department):\n",
    "        self.emp_name = emp_name\n",
    "        self.emp_id = emp_id\n",
    "        self.emp_salary = emp_salary\n",
    "        self.emp_department = emp_department\n",
    "    def assign_department(self, new_department):\n",
    "        self.emp_department = new_department\n",
    "    def calculate_emp_salary(self, hours_worked):\n",
    "        if hours_worked > 50:\n",
    "            overtime = hours_worked - 50\n",
    "            overtime_amount = overtime * (self.emp_salary / 50)\n",
    "            self.emp_salary += overtime_amount\n",
    "    def print_employee_details(self):\n",
    "        print(\"Employee ID:\", self.emp_id)\n",
    "        print(\"Employee Name:\", self.emp_name)\n",
    "        print(\"Employee Salary:\", self.emp_salary)\n",
    "        print(\"Employee Department:\", self.emp_department)\n",
    "\n",
    "emp1 = Employee(\"ADAMS\", \"E7876\", 50000, \"ACCOUNTING\")\n",
    "emp2 = Employee(\"JONES\", \"E7499\", 45000, \"RESEARCH\")\n",
    "emp3 = Employee(\"MARTIN\", \"E7900\", 50000, \"SALES\")\n",
    "emp4 = Employee(\"SMITH\", \"E7698\", 55000, \"OPERATIONS\")\n",
    "emp1.assign_department(\"HR\")\n",
    "emp1.calculate_emp_salary(55)\n",
    "emp1.print_employee_details()"
   ]
  },
  {
   "cell_type": "code",
   "execution_count": 4,
   "metadata": {},
   "outputs": [
    {
     "name": "stdout",
     "output_type": "stream",
     "text": [
      "Deposited: 200\n",
      "Withdrew: 100\n",
      "Current balance: 600\n"
     ]
    }
   ],
   "source": [
    "#6. Write a Python class BankAccount with attributes like account_number, balance, date_of_opening and customer_name, and methods like deposit,\n",
    "#withdraw, and check_balance.\n",
    "class BankAccount:\n",
    "    def __init__(self, account_number, customer_name, date_of_opening, balance=0):\n",
    "        self.account_number = account_number\n",
    "        self.customer_name = customer_name\n",
    "        self.date_of_opening = date_of_opening\n",
    "        self.balance = balance\n",
    "    def deposit(self, amount):\n",
    "        if amount > 0:\n",
    "            self.balance += amount\n",
    "            print(f\"Deposited: {amount}\")\n",
    "        else:\n",
    "            print(\"Deposit amount must be positive\")\n",
    "    def withdraw(self, amount):\n",
    "        if amount > self.balance:\n",
    "            print(\"Insufficient balance\")\n",
    "        elif amount > 0:\n",
    "            self.balance -= amount\n",
    "            print(f\"Withdrew: {amount}\")\n",
    "        else:\n",
    "            print(\"Withdrawal amount must be positive\")\n",
    "    def check_balance(self):\n",
    "        print(f\"Current balance: {self.balance}\")\n",
    "\n",
    "account = BankAccount(\"12345678\", \"Alex Johnson\", \"2023-10-15\", 500)\n",
    "account.deposit(200)\n",
    "account.withdraw(100)\n",
    "account.check_balance()\n"
   ]
  },
  {
   "cell_type": "code",
   "execution_count": 5,
   "metadata": {},
   "outputs": [
    {
     "name": "stdout",
     "output_type": "stream",
     "text": [
      "Circle area: 78.53999999999999\n",
      "Rectangle area: 24\n",
      "Square area: 16\n",
      "Parallelogram area: 15\n",
      "Triangle area: 14.0\n"
     ]
    }
   ],
   "source": [
    "#7. Create a class hierarchy for different types of geometric shapes, including circles, rectangles, and triangles, using inheritance.\n",
    "class Shape:\n",
    "    def __init__(self, colour):\n",
    "        self.colour = colour\n",
    "        self.area = 0\n",
    "    def calculate_area(self):\n",
    "        pass \n",
    "\n",
    "class Circle(Shape):\n",
    "    def __init__(self, colour, radius):\n",
    "        super().__init__(colour)\n",
    "        self.radius = radius\n",
    "    def calculate_area(self):\n",
    "        self.area = 3.1416 * self.radius ** 2\n",
    "        return self.area\n",
    "\n",
    "class Rectangle(Shape):\n",
    "    def __init__(self, colour, length, width):\n",
    "        super().__init__(colour)\n",
    "        self.length = length\n",
    "        self.width = width\n",
    "    def calculate_area(self):\n",
    "        self.area = self.length * self.width\n",
    "        return self.area\n",
    "\n",
    "class Square(Rectangle):\n",
    "    def __init__(self, colour, side_length):\n",
    "        super().__init__(colour, side_length, side_length)\n",
    "\n",
    "class Parallelogram(Rectangle):\n",
    "    def __init__(self, colour, base, height):\n",
    "        super().__init__(colour, base, height)\n",
    "        self.base = base\n",
    "        self.height = height\n",
    "    def calculate_area(self):\n",
    "        self.area = self.base * self.height\n",
    "        return self.area\n",
    "\n",
    "class Triangle(Shape):\n",
    "    def __init__(self, colour, base, height):\n",
    "        super().__init__(colour)\n",
    "        self.base = base\n",
    "        self.height = height\n",
    "    def calculate_area(self):\n",
    "        self.area = 0.5 * self.base * self.height\n",
    "        return self.area\n",
    "\n",
    "circle = Circle(\"Red\", 5)\n",
    "rectangle = Rectangle(\"Blue\", 4, 6)\n",
    "square = Square(\"Green\", 4)\n",
    "parallelogram = Parallelogram(\"Yellow\", 5, 3)\n",
    "triangle = Triangle(\"Purple\", 4, 7)\n",
    "print(\"Circle area:\", circle.calculate_area())\n",
    "print(\"Rectangle area:\", rectangle.calculate_area())\n",
    "print(\"Square area:\", square.calculate_area())\n",
    "print(\"Parallelogram area:\", parallelogram.calculate_area())\n",
    "print(\"Triangle area:\", triangle.calculate_area())"
   ]
  },
  {
   "cell_type": "code",
   "execution_count": 6,
   "metadata": {},
   "outputs": [
    {
     "name": "stdout",
     "output_type": "stream",
     "text": [
      "Number of words: 2\n"
     ]
    }
   ],
   "source": [
    "#8. WAP to find the number of words in the given text file.\n",
    "def count_words_in_file(filename):\n",
    "    try:\n",
    "        with open(filename, 'r+') as file:\n",
    "            text = file.read()\n",
    "            words = text.split()  \n",
    "            return len(words)     \n",
    "    except FileNotFoundError:\n",
    "        return \"File not found.\"\n",
    "\n",
    "filename = \"sample.txt\"\n",
    "print(\"Number of words:\", count_words_in_file(filename))"
   ]
  },
  {
   "cell_type": "code",
   "execution_count": 1,
   "metadata": {},
   "outputs": [
    {
     "name": "stdout",
     "output_type": "stream",
     "text": [
      "File content: Happy Programming\n"
     ]
    }
   ],
   "source": [
    "#9. Write a program to write “Happy Programming” in a text file and read it.\n",
    "# Write \"Happy Programming\" to a text file\n",
    "with open(\"message.txt\", \"w\") as file:\n",
    "    file.write(\"Happy Programming\")\n",
    "\n",
    "with open(\"message.txt\", \"r\") as file:\n",
    "    content = file.read()\n",
    "    print(\"File content:\", content)"
   ]
  },
  {
   "cell_type": "code",
   "execution_count": 3,
   "metadata": {},
   "outputs": [
    {
     "name": "stdout",
     "output_type": "stream",
     "text": [
      "Demonstrating read():\n",
      "Line 1: Welcome to Python programming.\n",
      "Line 2: File handling is important.\n",
      "Line 3: Let's demonstrate file reading functions.\n",
      "Line 4: Have fun coding!\n",
      "\n",
      "\n",
      "Demonstrating read(n):\n",
      "Line 1: Welcome to Python prog\n",
      "\n",
      "Demonstrating readline():\n",
      "Line 1: Welcome to Python programming.\n",
      "\n",
      "Line 2: File handling is important.\n",
      "\n",
      "\n",
      "Demonstrating readlines():\n",
      "['Line 1: Welcome to Python programming.\\n', 'Line 2: File handling is important.\\n', \"Line 3: Let's demonstrate file reading functions.\\n\", 'Line 4: Have fun coding!\\n']\n"
     ]
    }
   ],
   "source": [
    "#10. WAP to demonstrate the working of the following functions.\n",
    "filename = \"sample_text.txt\"\n",
    "with open(filename, \"w\") as file:\n",
    "    file.write(\"Line 1: Welcome to Python programming.\\n\")\n",
    "    file.write(\"Line 2: File handling is important.\\n\")\n",
    "    file.write(\"Line 3: Let's demonstrate file reading functions.\\n\")\n",
    "    file.write(\"Line 4: Have fun coding!\\n\")\n",
    "\n",
    "print(\"Demonstrating read():\")\n",
    "with open(filename, \"r\") as file:\n",
    "    content = file.read()  \n",
    "    print(content)\n",
    "\n",
    "print(\"\\nDemonstrating read(n):\")\n",
    "with open(filename, \"r\") as file:\n",
    "    content = file.read(30) \n",
    "    print(content)\n",
    "\n",
    "print(\"\\nDemonstrating readline():\")\n",
    "with open(filename, \"r\") as file:\n",
    "    first_line = file.readline() \n",
    "    print(first_line)\n",
    "    second_line = file.readline()  \n",
    "    print(second_line)\n",
    "\n",
    "print(\"\\nDemonstrating readlines():\")\n",
    "with open(filename, \"r\") as file:\n",
    "    lines = file.readlines()  \n",
    "    print(lines)  "
   ]
  },
  {
   "cell_type": "code",
   "execution_count": 7,
   "metadata": {},
   "outputs": [
    {
     "name": "stdout",
     "output_type": "stream",
     "text": [
      "File content:\n",
      "This is a single line written using write().\n",
      "Line 1: This is the first line written using writelines().\n",
      "Line 2: This is the second line.\n",
      "Line 3: This is the third line.\n",
      "\n"
     ]
    }
   ],
   "source": [
    "#11. WAP that exhibits the working of the following functions.\n",
    "filename = \"example.txt\"\n",
    "with open(filename, \"w\") as file:\n",
    "    file.write(\"This is a single line written using write().\\n\")\n",
    "\n",
    "lines_to_write = [\n",
    "    \"Line 1: This is the first line written using writelines().\\n\",\n",
    "    \"Line 2: This is the second line.\\n\",\n",
    "    \"Line 3: This is the third line.\\n\"\n",
    "]\n",
    "\n",
    "with open(filename, \"a\") as file:  \n",
    "    file.writelines(lines_to_write)\n",
    "\n",
    "with open(filename, \"r\") as file:\n",
    "    content = file.read()\n",
    "    print(\"File content:\")\n",
    "    print(content)"
   ]
  },
  {
   "cell_type": "code",
   "execution_count": 10,
   "metadata": {},
   "outputs": [
    {
     "name": "stdout",
     "output_type": "stream",
     "text": [
      "This is a single line written using write().\n",
      "Line 1: This is the first line written using writelines().\n",
      "Line 2: This is the second line.\n",
      "Line 3: This is the third line.\n"
     ]
    }
   ],
   "source": [
    "#12. Write a Python program to read first n lines of a file.\n",
    "def read_first_n_lines(filename, n):\n",
    "    try:\n",
    "        with open(filename, 'r') as file:\n",
    "            for i in range(n):\n",
    "                line = file.readline()\n",
    "                if line: \n",
    "                    print(line.strip())  \n",
    "                else:\n",
    "                    break  \n",
    "    except FileNotFoundError:\n",
    "        print(\"File not found.\")\n",
    "\n",
    "filename = \"example.txt\" \n",
    "n = int(input(\"Enter the number of lines to read: \"))\n",
    "read_first_n_lines(filename, n)"
   ]
  },
  {
   "cell_type": "code",
   "execution_count": 11,
   "metadata": {},
   "outputs": [
    {
     "name": "stdout",
     "output_type": "stream",
     "text": [
      "File content:\n",
      "This is a single line written using write().\n",
      "Line 1: This is the first line written using writelines().\n",
      "Line 2: This is the second line.\n",
      "Line 3: This is the third line.\n",
      "Hello World!\n",
      "\n"
     ]
    }
   ],
   "source": [
    "#13. Write a Python program to append text to a file and display the text.\n",
    "def append_text_to_file(filename, text):\n",
    "    with open(filename, 'a') as file: \n",
    "        file.write(text + \"\\n\") \n",
    "def display_file_content(filename):\n",
    "    try:\n",
    "        with open(filename, 'r') as file:\n",
    "            content = file.read()  \n",
    "            print(\"File content:\")\n",
    "            print(content)\n",
    "    except FileNotFoundError:\n",
    "        print(\"File not found.\")\n",
    "\n",
    "filename = \"example.txt\" \n",
    "text_to_append = input(\"Enter the text to append to the file: \")\n",
    "append_text_to_file(filename, text_to_append)\n",
    "display_file_content(filename)"
   ]
  },
  {
   "cell_type": "code",
   "execution_count": 12,
   "metadata": {},
   "outputs": [
    {
     "name": "stdout",
     "output_type": "stream",
     "text": [
      "Last 5 lines of the file:\n",
      "This is a single line written using write().\n",
      "Line 1: This is the first line written using writelines().\n",
      "Line 2: This is the second line.\n",
      "Line 3: This is the third line.\n",
      "Hello World!\n"
     ]
    }
   ],
   "source": [
    "#14. Write a Python program to read last n lines of a file.\n",
    "def read_last_n_lines(filename, n):\n",
    "    try:\n",
    "        with open(filename, 'r') as file:\n",
    "            lines = file.readlines() \n",
    "            if n > len(lines):\n",
    "                n = len(lines)\n",
    "            print(\"Last\", n, \"lines of the file:\")\n",
    "            for line in lines[-n:]: \n",
    "                print(line.strip())  \n",
    "    except FileNotFoundError:\n",
    "        print(\"File not found.\")\n",
    "\n",
    "filename = \"example.txt\" \n",
    "n = int(input(\"Enter the number of last lines to read: \"))\n",
    "read_last_n_lines(filename, n)"
   ]
  },
  {
   "cell_type": "code",
   "execution_count": 13,
   "metadata": {},
   "outputs": [
    {
     "name": "stdout",
     "output_type": "stream",
     "text": [
      "Lines read from the file:\n",
      "This is a single line written using write().\n",
      "Line 1: This is the first line written using writelines().\n",
      "Line 2: This is the second line.\n",
      "Line 3: This is the third line.\n",
      "Hello World!\n"
     ]
    }
   ],
   "source": [
    "#15.Write a Python program to read a file line by line and store it into a list.\n",
    "def read_file_to_list(filename):\n",
    "    lines_list = [] \n",
    "    try:\n",
    "        with open(filename, 'r') as file:\n",
    "            for line in file:  \n",
    "                lines_list.append(line.strip()) \n",
    "    except FileNotFoundError:\n",
    "        print(\"File not found.\")\n",
    "    return lines_list\n",
    "\n",
    "filename = \"example.txt\" \n",
    "lines = read_file_to_list(filename)\n",
    "print(\"Lines read from the file:\")\n",
    "for line in lines:\n",
    "    print(line)"
   ]
  },
  {
   "cell_type": "code",
   "execution_count": 14,
   "metadata": {},
   "outputs": [
    {
     "name": "stdout",
     "output_type": "stream",
     "text": [
      "The result of 3.0 divided by 6.0 is 0.50\n",
      "Execution of the divide_numbers function is complete.\n"
     ]
    }
   ],
   "source": [
    "#16. Write a program to exhibit these concepts.\n",
    "def divide_numbers():\n",
    "    try:\n",
    "        numerator = float(input(\"Enter the numerator: \"))\n",
    "        denominator = float(input(\"Enter the denominator: \"))\n",
    "        result = numerator / denominator\n",
    "        print(f\"The result of {numerator} divided by {denominator} is {result:.2f}\")\n",
    "    \n",
    "    except ZeroDivisionError:\n",
    "        print(\"Error: You cannot divide by zero.\")\n",
    "    \n",
    "    except ValueError:\n",
    "        print(\"Error: Please enter valid numbers.\")\n",
    "    \n",
    "    finally:\n",
    "        print(\"Execution of the divide_numbers function is complete.\")\n",
    "\n",
    "divide_numbers()"
   ]
  },
  {
   "cell_type": "code",
   "execution_count": 15,
   "metadata": {},
   "outputs": [
    {
     "name": "stdout",
     "output_type": "stream",
     "text": [
      "The result of 7.0 divided by 6.0 is 1.17\n"
     ]
    }
   ],
   "source": [
    "#17. Write a Python program to handle a ZeroDivisionError exception when dividing a number by zero.\n",
    "def divide_numbers():\n",
    "    try:\n",
    "        numerator = float(input(\"Enter the numerator: \"))\n",
    "        denominator = float(input(\"Enter the denominator: \"))\n",
    "        result = numerator / denominator\n",
    "        print(f\"The result of {numerator} divided by {denominator} is {result:.2f}\")\n",
    "    \n",
    "    except ZeroDivisionError:\n",
    "        print(\"Error: You cannot divide by zero. Please provide a non-zero denominator.\")\n",
    "    \n",
    "    except ValueError:\n",
    "        print(\"Error: Please enter valid numbers.\")\n",
    "\n",
    "divide_numbers()"
   ]
  },
  {
   "cell_type": "code",
   "execution_count": 16,
   "metadata": {},
   "outputs": [
    {
     "name": "stdout",
     "output_type": "stream",
     "text": [
      "You have entered the integer: 7\n"
     ]
    }
   ],
   "source": [
    "#18. Write a Python program that prompts the user to input an integer and raises a \n",
    "#ValueError exception if the input is not a valid integer.\n",
    "def input_integer():\n",
    "    try:\n",
    "        user_input = input(\"Please enter an integer: \")\n",
    "        number = int(user_input)\n",
    "        print(f\"You have entered the integer: {number}\")\n",
    "    \n",
    "    except ValueError:\n",
    "        raise ValueError(\"Error: The input is not a valid integer. Please try again.\")\n",
    "\n",
    "if __name__ == \"__main__\":\n",
    "    try:\n",
    "        input_integer()\n",
    "    except ValueError as ve:\n",
    "        print(ve)"
   ]
  },
  {
   "cell_type": "code",
   "execution_count": 17,
   "metadata": {},
   "outputs": [
    {
     "name": "stdout",
     "output_type": "stream",
     "text": [
      "The result of 3 divided by 3 is 1.00\n",
      "Execution of the handle_exceptions function is complete.\n"
     ]
    }
   ],
   "source": [
    "#19. WAP that exhibits multiple except blocks along with default block.\n",
    "def handle_exceptions():\n",
    "    try:\n",
    "        numerator = input(\"Enter the numerator: \")\n",
    "        denominator = input(\"Enter the denominator: \")\n",
    "        num = int(numerator)\n",
    "        denom = int(denominator)\n",
    "        result = num / denom\n",
    "        print(f\"The result of {num} divided by {denom} is {result:.2f}\")\n",
    "\n",
    "    except ValueError:\n",
    "        print(\"Error: Please enter valid integers for both numerator and denominator.\")\n",
    "    \n",
    "    except ZeroDivisionError:\n",
    "        print(\"Error: You cannot divide by zero. Please provide a non-zero denominator.\")\n",
    "    \n",
    "    except Exception as e:\n",
    "        print(f\"An unexpected error occurred: {e}\")\n",
    "    \n",
    "    finally:\n",
    "        print(\"Execution of the handle_exceptions function is complete.\")\n",
    "\n",
    "if __name__ == \"__main__\":\n",
    "    handle_exceptions()"
   ]
  },
  {
   "cell_type": "code",
   "execution_count": 18,
   "metadata": {},
   "outputs": [
    {
     "name": "stdout",
     "output_type": "stream",
     "text": [
      "The result of 5 divided by 10 is 0.50\n"
     ]
    }
   ],
   "source": [
    "#20. WAP that exhibits except blocks that can catch multiple exceptions.\n",
    "def handle_multiple_exceptions():\n",
    "    try:\n",
    "        numerator = input(\"Enter the numerator: \")\n",
    "        denominator = input(\"Enter the denominator: \")\n",
    "        num = int(numerator)\n",
    "        denom = int(denominator)\n",
    "        result = num / denom\n",
    "        print(f\"The result of {num} divided by {denom} is {result:.2f}\")\n",
    "\n",
    "    except (ValueError, ZeroDivisionError) as e:\n",
    "        if isinstance(e, ValueError):\n",
    "            print(\"Error: Please enter valid integers for both numerator and denominator.\")\n",
    "        elif isinstance(e, ZeroDivisionError):\n",
    "            print(\"Error: You cannot divide by zero. Please provide a non-zero denominator.\")\n",
    "    \n",
    "    except Exception as e:\n",
    "        print(f\"An unexpected error occurred: {e}\")\n",
    "\n",
    "if __name__ == \"__main__\":\n",
    "    handle_multiple_exceptions()"
   ]
  },
  {
   "cell_type": "code",
   "execution_count": 19,
   "metadata": {},
   "outputs": [
    {
     "name": "stdout",
     "output_type": "stream",
     "text": [
      "Original numbers: [1, 2, 3, 4, 5]\n",
      "Squared numbers: [1, 4, 9, 16, 25]\n"
     ]
    }
   ],
   "source": [
    "#21. WAP to demonstrate how to use lambda in map() function.\n",
    "numbers = [1, 2, 3, 4, 5]\n",
    "squared_numbers = list(map(lambda x: x ** 2, numbers))\n",
    "print(\"Original numbers:\", numbers)\n",
    "print(\"Squared numbers:\", squared_numbers)"
   ]
  },
  {
   "cell_type": "code",
   "execution_count": 20,
   "metadata": {},
   "outputs": [
    {
     "name": "stdout",
     "output_type": "stream",
     "text": [
      "Original numbers: [1, 2, 3, 4, 5, 6, 7, 8, 9, 10]\n",
      "Even numbers: [2, 4, 6, 8, 10]\n"
     ]
    }
   ],
   "source": [
    "#22.WAP to demonstrate how to use lambda in filter() function.\n",
    "numbers = [1, 2, 3, 4, 5, 6, 7, 8, 9, 10]\n",
    "even_numbers = list(filter(lambda x: x % 2 == 0, numbers))\n",
    "print(\"Original numbers:\", numbers)\n",
    "print(\"Even numbers:\", even_numbers)"
   ]
  },
  {
   "cell_type": "code",
   "execution_count": 21,
   "metadata": {},
   "outputs": [
    {
     "name": "stdout",
     "output_type": "stream",
     "text": [
      "Original numbers: [1, 2, 3, 4, 5, 6, 7, 8, 9, 10]\n",
      "Even numbers: [2, 4, 6, 8, 10]\n",
      "Odd numbers: [1, 3, 5, 7, 9]\n"
     ]
    }
   ],
   "source": [
    "#23. Write a Python program to filter a list of integers into list of even numbers and list of odd numbers using Lambda.\n",
    "numbers = [1, 2, 3, 4, 5, 6, 7, 8, 9, 10]\n",
    "even_numbers = list(filter(lambda x: x % 2 == 0, numbers))\n",
    "odd_numbers = list(filter(lambda x: x % 2 != 0, numbers))\n",
    "print(\"Original numbers:\", numbers)\n",
    "print(\"Even numbers:\", even_numbers)\n",
    "print(\"Odd numbers:\", odd_numbers)"
   ]
  },
  {
   "cell_type": "code",
   "execution_count": 22,
   "metadata": {},
   "outputs": [
    {
     "name": "stdout",
     "output_type": "stream",
     "text": [
      "Original numbers: [1, 2, 3, 4, 5]\n",
      "Squared numbers: [1, 4, 9, 16, 25]\n",
      "Cubed numbers: [1, 8, 27, 64, 125]\n"
     ]
    }
   ],
   "source": [
    "#24. Write a Python program to square and cube every number in a given list of integers using Lambda. \n",
    "numbers = [1, 2, 3, 4, 5]\n",
    "squared_numbers = list(map(lambda x: x ** 2, numbers))\n",
    "cubed_numbers = list(map(lambda x: x ** 3, numbers))\n",
    "print(\"Original numbers:\", numbers)\n",
    "print(\"Squared numbers:\", squared_numbers)\n",
    "print(\"Cubed numbers:\", cubed_numbers)"
   ]
  },
  {
   "cell_type": "code",
   "execution_count": 23,
   "metadata": {},
   "outputs": [
    {
     "name": "stdout",
     "output_type": "stream",
     "text": [
      "Adding 15 to 10: 25\n",
      "Adding 15 to 5: 20\n",
      "Adding 15 to -3: 12\n"
     ]
    }
   ],
   "source": [
    "#25. Write a Python program to create a lambda function that adds 15 to a given number passed in as an argument.\n",
    "add_fifteen = lambda x: x + 15\n",
    "number1 = 10\n",
    "number2 = 5\n",
    "number3 = -3\n",
    "print(f\"Adding 15 to {number1}: {add_fifteen(number1)}\")\n",
    "print(f\"Adding 15 to {number2}: {add_fifteen(number2)}\")\n",
    "print(f\"Adding 15 to {number3}: {add_fifteen(number3)}\")"
   ]
  },
  {
   "cell_type": "code",
   "execution_count": 24,
   "metadata": {},
   "outputs": [
    {
     "name": "stdout",
     "output_type": "stream",
     "text": [
      "Multiplying 5 and 3: 15\n",
      "Multiplying 10 and 4: 40\n"
     ]
    }
   ],
   "source": [
    "#26. Create a lambda function that multiplies argument x with argument y and prints the result.\n",
    "multiply = lambda x, y: x * y\n",
    "num1 = 5\n",
    "num2 = 3\n",
    "num3 = 10\n",
    "num4 = 4\n",
    "result1 = multiply(num1, num2)\n",
    "result2 = multiply(num3, num4)\n",
    "print(f\"Multiplying {num1} and {num2}: {result1}\")\n",
    "print(f\"Multiplying {num3} and {num4}: {result2}\")"
   ]
  }
 ],
 "metadata": {
  "kernelspec": {
   "display_name": "Python 3",
   "language": "python",
   "name": "python3"
  },
  "language_info": {
   "codemirror_mode": {
    "name": "ipython",
    "version": 3
   },
   "file_extension": ".py",
   "mimetype": "text/x-python",
   "name": "python",
   "nbconvert_exporter": "python",
   "pygments_lexer": "ipython3",
   "version": "3.9.6"
  }
 },
 "nbformat": 4,
 "nbformat_minor": 2
}
